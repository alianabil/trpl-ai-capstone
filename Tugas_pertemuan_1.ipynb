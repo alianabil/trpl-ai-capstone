{
  "nbformat": 4,
  "nbformat_minor": 0,
  "metadata": {
    "colab": {
      "provenance": [],
      "authorship_tag": "ABX9TyMp5WkBxdR41lErjZ+n/LH4",
      "include_colab_link": true
    },
    "kernelspec": {
      "name": "python3",
      "display_name": "Python 3"
    },
    "language_info": {
      "name": "python"
    }
  },
  "cells": [
    {
      "cell_type": "markdown",
      "metadata": {
        "id": "view-in-github",
        "colab_type": "text"
      },
      "source": [
        "<a href=\"https://colab.research.google.com/github/alianabil/trpl-ai-capstone/blob/main/Tugas_pertemuan_1.ipynb\" target=\"_parent\"><img src=\"https://colab.research.google.com/assets/colab-badge.svg\" alt=\"Open In Colab\"/></a>"
      ]
    },
    {
      "cell_type": "code",
      "execution_count": null,
      "metadata": {
        "colab": {
          "base_uri": "https://localhost:8080/"
        },
        "id": "4zC2mADzm1fU",
        "outputId": "36e5b847-c6c0-4e4b-9c52-019b58a47049"
      },
      "outputs": [
        {
          "output_type": "stream",
          "name": "stdout",
          "text": [
            "Python: 3.12.11\n",
            "Executable: /usr/bin/python3\n",
            "PyTorch: 2.8.0+cu126\n",
            "Device: cpu\n",
            "\n",
            "=== nvidia-smi ===\n",
            "\n"
          ]
        }
      ],
      "source": [
        "# Cek sistem & GPU + suppress warnings/logging\n",
        "import os, platform, sys, subprocess, warnings, logging\n",
        "warnings.filterwarnings(\"ignore\", message=r\".*HF_TOKEN.*\")\n",
        "os.environ[\"TOKENIZERS_PARALLELISM\"] = \"false\"\n",
        "logging.getLogger(\"transformers\").setLevel(logging.ERROR)\n",
        "logging.getLogger(\"huggingface_hub\").setLevel(logging.ERROR)\n",
        "print(\"Python:\", platform.python_version())\n",
        "print(\"Executable:\", sys.executable)\n",
        "try:\n",
        "    import torch\n",
        "    print(\"PyTorch:\", torch.__version__)\n",
        "    device = \"cuda\" if torch.cuda.is_available() else \"cpu\"\n",
        "    print(\"Device:\", device)\n",
        "    if device == \"cuda\":\n",
        "        print(\"GPU:\", torch.cuda.get_device_name(0))\n",
        "except Exception:\n",
        "    print(\"PyTorch belum terpasang — akan dipasang di sel berikut.\")\n",
        "print(\"\\n=== nvidia-smi ===\")\n",
        "try:\n",
        "    out = subprocess.check_output([\"bash\",\"-lc\",\"nvidia-smi || true\"]).decode()\n",
        "    print(out)\n",
        "except Exception:\n",
        "    print(\"nvidia-smi tidak tersedia.\")"
      ]
    },
    {
      "cell_type": "code",
      "source": [
        "!pip -q install numpy pandas scikit-learn matplotlib plotly torch torchvision torchaudio transformers datasets evaluate"
      ],
      "metadata": {
        "colab": {
          "base_uri": "https://localhost:8080/"
        },
        "id": "y-ApWLh4nHAI",
        "outputId": "b3d28961-da48-4b32-ca08-592595aacdc3"
      },
      "execution_count": null,
      "outputs": [
        {
          "output_type": "stream",
          "name": "stdout",
          "text": [
            "\u001b[?25l   \u001b[90m━━━━━━━━━━━━━━━━━━━━━━━━━━━━━━━━━━━━━━━━\u001b[0m \u001b[32m0.0/84.1 kB\u001b[0m \u001b[31m?\u001b[0m eta \u001b[36m-:--:--\u001b[0m\r\u001b[2K   \u001b[90m━━━━━━━━━━━━━━━━━━━━━━━━━━━━━━━━━━━━━━━━\u001b[0m \u001b[32m84.1/84.1 kB\u001b[0m \u001b[31m3.1 MB/s\u001b[0m eta \u001b[36m0:00:00\u001b[0m\n",
            "\u001b[?25h"
          ]
        }
      ]
    },
    {
      "cell_type": "code",
      "source": [
        "from google.colab import drive\n",
        "drive.mount('/content/drive')"
      ],
      "metadata": {
        "colab": {
          "base_uri": "https://localhost:8080/"
        },
        "id": "-eQJLFYFnNhS",
        "outputId": "2aabf668-ad0e-41aa-fce6-32bc143ce052"
      },
      "execution_count": null,
      "outputs": [
        {
          "output_type": "stream",
          "name": "stdout",
          "text": [
            "Mounted at /content/drive\n"
          ]
        }
      ]
    },
    {
      "cell_type": "code",
      "source": [
        "import os, textwrap, pathlib\n",
        "BASE = \"/content/drive/MyDrive/trpl-ai-capstone\"  # Ubah bila perlu\n",
        "for sd in [\"data\",\"notebooks\",\"src\",\"docs\"]:\n",
        "    os.makedirs(os.path.join(BASE, sd), exist_ok=True)\n",
        "print(\"Struktur terbentuk di:\", BASE)\n",
        "\n",
        "# .gitignore minimal\n",
        "gitignore = textwrap.dedent('''\n",
        "# data & cache\n",
        "data/\n",
        "*.cache/\n",
        "__pycache__/\n",
        "*.ipynb_checkpoints/\n",
        ".DS_Store\n",
        "\n",
        "# secrets\n",
        ".env\n",
        "secrets.json\n",
        "''')\n",
        "with open(os.path.join(BASE, \".gitignore\"), \"w\") as f:\n",
        "    f.write(gitignore)\n",
        "print(\".gitignore dibuat.\")"
      ],
      "metadata": {
        "colab": {
          "base_uri": "https://localhost:8080/"
        },
        "id": "R_N_KRasu2CB",
        "outputId": "1cd957f6-0f37-4133-9d9d-854ea25f2025"
      },
      "execution_count": null,
      "outputs": [
        {
          "output_type": "stream",
          "name": "stdout",
          "text": [
            "Struktur terbentuk di: /content/drive/MyDrive/trpl-ai-capstone\n",
            ".gitignore dibuat.\n"
          ]
        }
      ]
    },
    {
      "cell_type": "code",
      "source": [
        "import os, textwrap\n",
        "\n",
        "BASE = \"/content/drive/MyDrive/trpl-ai-capstone\"\n",
        "\n",
        "readme = textwrap.dedent(\"\"\"\n",
        "# TRPL AI Capstone — Week 1\n",
        "\n",
        "## Judul Proyek\n",
        "TRPL AI Capstone: Sistem Pendukung Keputusan untuk Analisis Data Pengguna\n",
        "\n",
        "## Problem Statement\n",
        "Banyak organisasi kesulitan dalam menganalisis data pengguna secara efisien.\n",
        "Pengguna target: analis data dan manajer produk.\n",
        "Nilai bisnis: mempercepat pengambilan keputusan dengan insight yang akurat dan mudah dipahami.\n",
        "\n",
        "## Scope\n",
        "- **In-scope**: pengumpulan data, pembersihan, analisis awal, visualisasi, baseline model.\n",
        "- **Out-of-scope**: integrasi sistem ke produksi, pengembangan AI kompleks di luar baseline.\n",
        "\n",
        "## Metrik & Target\n",
        "- Klasifikasi: Accuracy ≥ 80%\n",
        "- Latensi p95 (ms): ≤ 200 ms\n",
        "- Biaya per 1k request: < $1\n",
        "\n",
        "## Data\n",
        "- Sumber: data internal organisasi (memastikan lisensi & privasi)\n",
        "- Catatan PII: minimalisasi data sensitif, izin penggunaan, retensi sesuai kebijakan\n",
        "\n",
        "## Arsitektur Ringkas\n",
        "![diagram](docs/arsitektur.png)\n",
        "\n",
        "## Roadmap (Mingguan)\n",
        "- **M1**: Definisi masalah, metrik, setup repo\n",
        "- **M2**: Eksplorasi data, baseline model\n",
        "- **M3**: Pengembangan model, evaluasi\n",
        "- **M4**: Optimasi, dokumentasi, finalisasi\n",
        "\n",
        "## Etika & Privasi (Risiko & Mitigasi)\n",
        "- Risiko: bias label, kebocoran data sensitif, output model tidak akurat\n",
        "- Mitigasi: anonymization, evaluasi subset data, human-in-the-loop, audit etika\n",
        "\"\"\")\n",
        "\n",
        "# buat folder dan file\n",
        "os.makedirs(BASE, exist_ok=True)\n",
        "with open(os.path.join(BASE, \"README.md\"), \"w\") as f:\n",
        "    f.write(readme)\n",
        "\n",
        "print(\"README.md berhasil dibuat di:\", os.path.join(BASE, \"README.md\"))\n"
      ],
      "metadata": {
        "colab": {
          "base_uri": "https://localhost:8080/"
        },
        "id": "fQDtz7EKu-2V",
        "outputId": "0be31260-2213-4c74-e1c5-4a738612fe15"
      },
      "execution_count": 1,
      "outputs": [
        {
          "output_type": "stream",
          "name": "stdout",
          "text": [
            "README.md berhasil dibuat di: /content/drive/MyDrive/trpl-ai-capstone/README.md\n"
          ]
        }
      ]
    },
    {
      "cell_type": "code",
      "source": [],
      "metadata": {
        "id": "yPQ2ysphv79s"
      },
      "execution_count": null,
      "outputs": []
    }
  ]
}